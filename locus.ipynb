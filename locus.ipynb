{
 "cells": [
  {
   "cell_type": "code",
   "execution_count": 53,
   "id": "20c4ab7b-8784-46e7-a176-8ca6ad5980fd",
   "metadata": {},
   "outputs": [
    {
     "name": "stdout",
     "output_type": "stream",
     "text": [
      "(5, 8)\n",
      "________\n",
      "_5_6-6__\n",
      "_|/_____\n",
      "_11______\n",
      "________\n"
     ]
    }
   ],
   "source": [
    "import numpy as np\n",
    "\n",
    "sample = \"\"\"\n",
    "________\n",
    "_5_6-$__\n",
    "_|/_____\n",
    "_$______\n",
    "________\n",
    "\"\"\"\n",
    "\n",
    "directions = {\n",
    "    '|': [0, 1],\n",
    "    '/': [-1, 1],\n",
    "    '-': [1, 0]\n",
    "}\n",
    "\n",
    "def execute(program):\n",
    "    lines = [list(l) for l in program.split('\\n')[1:-1]]\n",
    "    lines = np.array(lines)\n",
    "#     size = len(lines[0]), len(lines)\n",
    "    size = lines.shape\n",
    "    print(lines.shape)\n",
    "    t = tuple\n",
    "#     new = ['_' * size[0]] * size[1]\n",
    "#     new = np.full(lines.shape, '_', dtype=object)\n",
    "    new = lines.copy().astype(object)\n",
    "    for x, y in np.ndindex(lines.shape):\n",
    "        c = lines[x][y]\n",
    "        if c in '$':\n",
    "            new[x][y] = 0\n",
    "            \n",
    "    for x, y in np.ndindex(lines.shape):\n",
    "        w = np.array([x, y])\n",
    "#         w = np.flip(w)\n",
    "        c = lines[x][y]\n",
    "        if c in directions:\n",
    "            d = directions[c]\n",
    "            d = np.flip(d)\n",
    "            a = lines[t(w+d)]\n",
    "            b = lines[t(w-d)]\n",
    "            if a == '$':\n",
    "                new[t(w+d)] += int(b)\n",
    "            elif b == '$':\n",
    "                new[t(w-d)] += int(a)\n",
    "            \n",
    "    printout = '\\n'.join(''.join(str(s) for s in r) for r in new)\n",
    "    print(printout)\n",
    "                    \n",
    "execute(sample)"
   ]
  },
  {
   "cell_type": "code",
   "execution_count": 21,
   "id": "234a5171-1d7c-4c52-b574-842b703f4bd5",
   "metadata": {},
   "outputs": [
    {
     "data": {
      "text/plain": [
       "(5, 3, 2, 9)"
      ]
     },
     "execution_count": 21,
     "metadata": {},
     "output_type": "execute_result"
    }
   ],
   "source": [
    "(5, 3) + (2, 9)"
   ]
  }
 ],
 "metadata": {
  "kernelspec": {
   "display_name": "Python 3",
   "language": "python",
   "name": "python3"
  },
  "language_info": {
   "codemirror_mode": {
    "name": "ipython",
    "version": 3
   },
   "file_extension": ".py",
   "mimetype": "text/x-python",
   "name": "python",
   "nbconvert_exporter": "python",
   "pygments_lexer": "ipython3",
   "version": "3.9.4"
  }
 },
 "nbformat": 4,
 "nbformat_minor": 5
}
