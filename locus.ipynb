{
 "cells": [
  {
   "cell_type": "code",
   "execution_count": null,
   "id": "20c4ab7b-8784-46e7-a176-8ca6ad5980fd",
   "metadata": {},
   "outputs": [],
   "source": [
    "sample = \"\"\"\n",
    "_5_6____\n",
    "_|/_____\n",
    "_a______\n",
    "________\n",
    "\"\"\"\n",
    "\n",
    "def execute(program):\n",
    "    lines = program.split('\\n')\n",
    "    size = len(lines[0]), len(lines)\n",
    "    new = ['_' * size[0]] * size[1]"
   ]
  }
 ],
 "metadata": {
  "kernelspec": {
   "display_name": "Python 3",
   "language": "python",
   "name": "python3"
  },
  "language_info": {
   "codemirror_mode": {
    "name": "ipython",
    "version": 3
   },
   "file_extension": ".py",
   "mimetype": "text/x-python",
   "name": "python",
   "nbconvert_exporter": "python",
   "pygments_lexer": "ipython3",
   "version": "3.9.4"
  }
 },
 "nbformat": 4,
 "nbformat_minor": 5
}
